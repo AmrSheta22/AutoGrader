{
 "cells": [
  {
   "cell_type": "code",
   "execution_count": 1,
   "metadata": {},
   "outputs": [],
   "source": [
    "import random\n",
    "\n",
    "def generate_random_number():\n",
    "  \"\"\"Generates a random 12-digit number as a string.\"\"\"\n",
    "  while True:\n",
    "    number = str(random.randint(10**11, 10**12 - 1))\n",
    "    if len(number) == 12:\n",
    "      return number"
   ]
  },
  {
   "cell_type": "code",
   "execution_count": 2,
   "metadata": {},
   "outputs": [],
   "source": [
    "def calculate_average_digit_distance(num1, num2):\n",
    "  \"\"\"Calculates the average absolute difference between corresponding digits of two numbers.\"\"\"\n",
    "  total_distance = 0\n",
    "  for i in range(12):\n",
    "    digit1 = int(num1[i])\n",
    "    digit2 = int(num2[i])\n",
    "    total_distance += abs(digit1 - digit2)\n",
    "  return total_distance / 12"
   ]
  },
  {
   "cell_type": "code",
   "execution_count": 3,
   "metadata": {},
   "outputs": [
    {
     "name": "stdout",
     "output_type": "stream",
     "text": [
      "Number 1: 682129764872\n",
      "Number 2: 496581696684\n",
      "Average digit distance: 3.00\n"
     ]
    }
   ],
   "source": [
    "# Generate two random 12-digit numbers\n",
    "number1 = generate_random_number()\n",
    "number2 = generate_random_number()\n",
    "\n",
    "# Calculate and print the average digit distance\n",
    "average_distance = calculate_average_digit_distance(number1, number2)\n",
    "print(f\"Number 1: {number1}\")\n",
    "print(f\"Number 2: {number2}\")\n",
    "print(f\"Average digit distance: {average_distance:.2f}\")"
   ]
  },
  {
   "cell_type": "markdown",
   "metadata": {},
   "source": [
    "lets suppose we have 20201010819 and 20201010791 and 20201010800 we generate random number for them and then give them to the students to \n",
    "inter in the exam (ID for exams only like seat number) then even if he is wrong in or two digits we still can get the right ID by average distance\n",
    "between each digit for example"
   ]
  },
  {
   "cell_type": "code",
   "execution_count": 4,
   "metadata": {},
   "outputs": [],
   "source": [
    "def ID_generator(IDS):\n",
    "    exam_ids ={}\n",
    "    for id in IDS:\n",
    "        exam_ids[id] = generate_random_number()\n",
    "    return(exam_ids)"
   ]
  },
  {
   "cell_type": "code",
   "execution_count": 5,
   "metadata": {},
   "outputs": [],
   "source": [
    "exampleee = ID_generator([20201010819, 20201010791, 20201010800])"
   ]
  },
  {
   "cell_type": "code",
   "execution_count": 6,
   "metadata": {},
   "outputs": [
    {
     "data": {
      "text/plain": [
       "{20201010819: '401884575002',\n",
       " 20201010791: '705143947173',\n",
       " 20201010800: '994371650163'}"
      ]
     },
     "execution_count": 6,
     "metadata": {},
     "output_type": "execute_result"
    }
   ],
   "source": [
    "exampleee"
   ]
  },
  {
   "cell_type": "code",
   "execution_count": 12,
   "metadata": {},
   "outputs": [
    {
     "data": {
      "text/plain": [
       "'705143947173'"
      ]
     },
     "execution_count": 12,
     "metadata": {},
     "output_type": "execute_result"
    }
   ],
   "source": [
    "list(exampleee.values())[1]"
   ]
  },
  {
   "cell_type": "code",
   "execution_count": 13,
   "metadata": {},
   "outputs": [],
   "source": [
    "# Function to find the key based on value\n",
    "def get_key(value, my_dict):\n",
    "  for key, val in my_dict.items():\n",
    "    if val == value:\n",
    "      return key\n",
    "  return None  # If value not found\n"
   ]
  },
  {
   "cell_type": "markdown",
   "metadata": {},
   "source": [
    "now lets use our tools"
   ]
  },
  {
   "cell_type": "code",
   "execution_count": 21,
   "metadata": {},
   "outputs": [],
   "source": [
    "import numpy as np\n",
    "def checkingg(student_id,id_dict):\n",
    "    all_ids =list(id_dict.values())\n",
    "    average_distances = []\n",
    "    if student_id in all_ids:\n",
    "        print(\"Right Exam ID your university ID is: \", get_key(student_id,id_dict))\n",
    "    else:\n",
    "        for id in all_ids:\n",
    "            average_distances.append(calculate_average_digit_distance(student_id, id))\n",
    "        pos = np.array(average_distance).argmin()\n",
    "        print(\"Worng ID but your university ID is most likey: \", get_key(all_ids[pos],id_dict))\n",
    "        \n",
    "        \n",
    "    \n",
    "    "
   ]
  },
  {
   "cell_type": "code",
   "execution_count": 22,
   "metadata": {},
   "outputs": [
    {
     "name": "stdout",
     "output_type": "stream",
     "text": [
      "Right Exam ID your university ID is:  20201010819\n"
     ]
    }
   ],
   "source": [
    "checkingg(\"401884575002\",exampleee)"
   ]
  },
  {
   "cell_type": "markdown",
   "metadata": {},
   "source": [
    "here we got 1 mistake"
   ]
  },
  {
   "cell_type": "code",
   "execution_count": 23,
   "metadata": {},
   "outputs": [
    {
     "name": "stdout",
     "output_type": "stream",
     "text": [
      "Worng ID but your university ID is most likey:  20201010819\n"
     ]
    }
   ],
   "source": [
    "checkingg(\"401884575001\",exampleee)"
   ]
  },
  {
   "cell_type": "markdown",
   "metadata": {},
   "source": [
    "Lets try 2 mistakes"
   ]
  },
  {
   "cell_type": "code",
   "execution_count": 24,
   "metadata": {},
   "outputs": [
    {
     "name": "stdout",
     "output_type": "stream",
     "text": [
      "Worng ID but your university ID is most likey:  20201010819\n"
     ]
    }
   ],
   "source": [
    "checkingg(\"401884535001\",exampleee)"
   ]
  },
  {
   "cell_type": "markdown",
   "metadata": {},
   "source": [
    "lets do 3 mistakes"
   ]
  },
  {
   "cell_type": "code",
   "execution_count": 25,
   "metadata": {},
   "outputs": [
    {
     "name": "stdout",
     "output_type": "stream",
     "text": [
      "Worng ID but your university ID is most likey:  20201010819\n"
     ]
    }
   ],
   "source": [
    "checkingg(\"401184535001\",exampleee)"
   ]
  },
  {
   "cell_type": "markdown",
   "metadata": {},
   "source": [
    "and as you can see it does not care if the actual IDs of the university are close or not."
   ]
  }
 ],
 "metadata": {
  "kernelspec": {
   "display_name": "base",
   "language": "python",
   "name": "python3"
  },
  "language_info": {
   "codemirror_mode": {
    "name": "ipython",
    "version": 3
   },
   "file_extension": ".py",
   "mimetype": "text/x-python",
   "name": "python",
   "nbconvert_exporter": "python",
   "pygments_lexer": "ipython3",
   "version": "3.10.9"
  }
 },
 "nbformat": 4,
 "nbformat_minor": 2
}
